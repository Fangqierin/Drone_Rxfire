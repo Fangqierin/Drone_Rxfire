{
 "cells": [
  {
   "cell_type": "markdown",
   "metadata": {},
   "source": [
    "# Fibonnaci\n",
    "\n",
    "Calculate the fibonacci digit in position `target`."
   ]
  },
  {
   "cell_type": "code",
   "execution_count": 1,
   "metadata": {},
   "outputs": [],
   "source": [
    "from pyknow import *"
   ]
  },
  {
   "cell_type": "code",
   "execution_count": 2,
   "metadata": {},
   "outputs": [],
   "source": [
    "class FibonacciDigit(Fact):\n",
    "    position = Field(int, mandatory=True)\n",
    "    value = Field(int, mandatory=True)\n",
    "\n",
    "\n",
    "class FibonacciCalculator(KnowledgeEngine):    \n",
    "    @DefFacts()\n",
    "    def set_target_position(self, target):\n",
    "        yield Fact(target_position=target)\n",
    "\n",
    "    @DefFacts()\n",
    "    def init_sequence(self):\n",
    "        yield FibonacciDigit(position=1, value=1)\n",
    "        yield FibonacciDigit(position=2, value=1)\n",
    "\n",
    "    @Rule(\n",
    "        FibonacciDigit(\n",
    "            position=MATCH.p1,\n",
    "            value=MATCH.v1),\n",
    "        FibonacciDigit(\n",
    "            position=MATCH.p2,\n",
    "            value=MATCH.v2),\n",
    "        TEST(\n",
    "            lambda p1, p2: p2 == p1 + 1),\n",
    "        Fact(\n",
    "            target_position=MATCH.t),\n",
    "        TEST(\n",
    "            lambda p2, t: p2 < t))\n",
    "    def compute_next(self, p2, v1, v2):\n",
    "        next_digit = FibonacciDigit(\n",
    "            position=p2 + 1,\n",
    "            value=v1 + v2)\n",
    "\n",
    "        self.declare(next_digit)\n",
    "    \n",
    "    @Rule(\n",
    "        Fact(\n",
    "            target_position=MATCH.t),\n",
    "        FibonacciDigit(\n",
    "            position=MATCH.t,\n",
    "            value=MATCH.v))\n",
    "    def print_last(self, t, v):\n",
    "        print(\"Fibonnaci digit in position {position} is {value}\".format(\n",
    "            position=t, value=v))"
   ]
  },
  {
   "cell_type": "code",
   "execution_count": 3,
   "metadata": {},
   "outputs": [],
   "source": [
    "f = FibonacciCalculator()"
   ]
  },
  {
   "cell_type": "code",
   "execution_count": 4,
   "metadata": {
    "scrolled": false
   },
   "outputs": [
    {
     "name": "stdout",
     "output_type": "stream",
     "text": [
      "Fibonnaci digit in position 42 is 267914296\n"
     ]
    }
   ],
   "source": [
    "f.reset(target=42)\n",
    "f.run()"
   ]
  }
 ],
 "metadata": {
  "kernelspec": {
   "display_name": "Python 3",
   "language": "python",
   "name": "python3"
  },
  "language_info": {
   "codemirror_mode": {
    "name": "ipython",
    "version": 3
   },
   "file_extension": ".py",
   "mimetype": "text/x-python",
   "name": "python",
   "nbconvert_exporter": "python",
   "pygments_lexer": "ipython3",
   "version": "3.5.3"
  }
 },
 "nbformat": 4,
 "nbformat_minor": 2
}
