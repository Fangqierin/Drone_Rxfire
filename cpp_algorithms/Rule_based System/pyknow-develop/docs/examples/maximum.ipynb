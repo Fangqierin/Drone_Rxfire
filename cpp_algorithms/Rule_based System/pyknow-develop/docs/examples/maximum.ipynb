{
 "cells": [
  {
   "cell_type": "code",
   "execution_count": 1,
   "metadata": {
    "scrolled": false
   },
   "outputs": [],
   "source": [
    "from pyknow import *"
   ]
  },
  {
   "cell_type": "code",
   "execution_count": 2,
   "metadata": {
    "scrolled": false
   },
   "outputs": [],
   "source": [
    "class Maximum(KnowledgeEngine):\n",
    "    @Rule(NOT(Fact(max=W())))\n",
    "    def init(self):\n",
    "        self.declare(Fact(max=0))\n",
    "    \n",
    "    @Rule(Fact(val=MATCH.val),\n",
    "          AS.m << Fact(max=MATCH.max),\n",
    "          TEST(lambda max, val: val > max))\n",
    "    def compute_max(self, m, val):\n",
    "        self.modify(m, max=val)\n",
    "    \n",
    "    @Rule(AS.v << Fact(val=MATCH.val),\n",
    "          Fact(max=MATCH.max),\n",
    "          TEST(lambda max, val: val <= max))\n",
    "    def remove_val(self, v):\n",
    "        self.retract(v)\n",
    "            \n",
    "    @Rule(AS.v << Fact(max=W()),\n",
    "          NOT(Fact(val=W())))\n",
    "    def print_max(self, v):\n",
    "        print(\"Max:\", v['max'])"
   ]
  },
  {
   "cell_type": "code",
   "execution_count": 3,
   "metadata": {
    "scrolled": false
   },
   "outputs": [
    {
     "data": {
      "text/plain": [
       "Fact(val=75)"
      ]
     },
     "execution_count": 3,
     "metadata": {},
     "output_type": "execute_result"
    }
   ],
   "source": [
    "m = Maximum()\n",
    "m.reset()\n",
    "m.declare(*[Fact(val=x) for x in (12, 33, 42, 99, 55, 11, 75)])"
   ]
  },
  {
   "cell_type": "code",
   "execution_count": 4,
   "metadata": {
    "scrolled": false
   },
   "outputs": [
    {
     "name": "stdout",
     "output_type": "stream",
     "text": [
      "Max: 99\n"
     ]
    }
   ],
   "source": [
    "# watch(RULES, FACTS, ACTIVATIONS)\n",
    "m.run()"
   ]
  }
 ],
 "metadata": {
  "kernelspec": {
   "display_name": "Python 3",
   "language": "python",
   "name": "python3"
  },
  "language_info": {
   "codemirror_mode": {
    "name": "ipython",
    "version": 3
   },
   "file_extension": ".py",
   "mimetype": "text/x-python",
   "name": "python",
   "nbconvert_exporter": "python",
   "pygments_lexer": "ipython3",
   "version": "3.5.3"
  }
 },
 "nbformat": 4,
 "nbformat_minor": 2
}
