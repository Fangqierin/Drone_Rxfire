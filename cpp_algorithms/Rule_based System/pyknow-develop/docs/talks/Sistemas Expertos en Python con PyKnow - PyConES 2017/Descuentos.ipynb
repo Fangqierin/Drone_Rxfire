{
 "cells": [
  {
   "cell_type": "markdown",
   "metadata": {},
   "source": [
    "# Generador de descuentos\n",
    "\n",
    "## Objetivos\n",
    "\n",
    "* Incentivar nuevas compras del cliente en el establecimiento\n",
    "\n",
    "* Fomentar el consumo de otros productos\n",
    "\n",
    "* Fomentar el consumo de productos con más margen de beneficio\n",
    "\n",
    "\n",
    "## Entradas y Salidas\n",
    "\n",
    "* **Entrada**: Lista de artículos que ha comprado el consumidor\n",
    "* **Salida**: Lista de cupones descuento que imprimir junto al recibo de compra"
   ]
  },
  {
   "cell_type": "code",
   "execution_count": 1,
   "metadata": {},
   "outputs": [],
   "source": [
    "import re\n",
    "\n",
    "from pyknow import *"
   ]
  },
  {
   "cell_type": "markdown",
   "metadata": {},
   "source": [
    "## Hechos\n",
    "\n",
    "Definiremos a continuación los hechos que manejará el sistema."
   ]
  },
  {
   "cell_type": "code",
   "execution_count": 2,
   "metadata": {},
   "outputs": [],
   "source": [
    "class Producto(Fact):\n",
    "    \"\"\"\n",
    "    Producto que ha comprado un cliente.\n",
    "\n",
    "    >>> Producto(nombre=\"pepsi\", tipo=\"refresco de cola\", cantidad=1)\n",
    "\n",
    "    \"\"\"\n",
    "    pass\n",
    "\n",
    "class Cupon(Fact):\n",
    "    \"\"\"\n",
    "    Cupón a generar para la próxima compra del cliente.\n",
    "\n",
    "    >>> Cupon(tipo=\"2x1\", producto=\"pepsi\")\n",
    "    \n",
    "    \"\"\"\n",
    "    pass"
   ]
  },
  {
   "cell_type": "code",
   "execution_count": 3,
   "metadata": {},
   "outputs": [],
   "source": [
    "class Promo(Fact):\n",
    "    \"\"\"\n",
    "    Promoción vigente en el comercio.\n",
    "\n",
    "    >>> Promo(tipo=\"2x1\", **depende_de_la_promo)\n",
    "\n",
    "    \"\"\"\n",
    "    pass\n",
    "\n",
    "class Beneficio(Fact):\n",
    "    \"\"\"\n",
    "    Define los beneficios que obtiene el comercio por cada producto.\n",
    "\n",
    "    >>> Beneficio(nombre=\"pepsi\", tipo=\"refresco de cola\", ganancias=0.2)\n",
    "\n",
    "    \"\"\"\n",
    "    pass"
   ]
  },
  {
   "cell_type": "markdown",
   "metadata": {},
   "source": [
    "## Objetivo 1\n",
    "### Incentivar nuevas compras del cliente en el establecimiento\n",
    "Para esto no hay nada mejor que las típicas promociones **2x1**, **3x2**, etc.\n",
    "\n",
    "#### Implementación"
   ]
  },
  {
   "cell_type": "code",
   "execution_count": 4,
   "metadata": {},
   "outputs": [],
   "source": [
    "class OfertasNxM(KnowledgeEngine):\n",
    "    @DefFacts()\n",
    "    def carga_promociones_nxm(self):\n",
    "        \"\"\"\n",
    "        Hechos iniciales.\n",
    "        \n",
    "        Genera las promociones vigentes\n",
    "        \"\"\"\n",
    "        yield Promo(tipo=\"2x1\", producto=\"Dodot\")\n",
    "        yield Promo(tipo=\"2x1\", producto=\"Leche Pascual\")\n",
    "        yield Promo(tipo=\"3x2\", producto=\"Pilas AAA\")\n",
    "    \n",
    "    @Rule(Promo(tipo=MATCH.t & P(lambda t: re.match(r\"\\d+x\\d+\", t)),\n",
    "                producto=MATCH.p),\n",
    "          Producto(nombre=MATCH.p))\n",
    "    def oferta_nxm(self, t, p):\n",
    "        \"\"\"\n",
    "        Sabemos que el cliente volverá para aprovechar\n",
    "        la promoción, ya que hoy ha comprado el producto.\n",
    "        \"\"\"\n",
    "        self.declare(Cupon(tipo=t, producto=p))"
   ]
  },
  {
   "cell_type": "markdown",
   "metadata": {},
   "source": [
    "#### Pruebas\n",
    "Utilizaremos la función `watch` para ver qué está haciendo el motor durante la ejecución."
   ]
  },
  {
   "cell_type": "code",
   "execution_count": 5,
   "metadata": {},
   "outputs": [],
   "source": [
    "watch('RULES', 'FACTS')"
   ]
  },
  {
   "cell_type": "code",
   "execution_count": 6,
   "metadata": {},
   "outputs": [],
   "source": [
    "nxm = OfertasNxM()"
   ]
  },
  {
   "cell_type": "code",
   "execution_count": 7,
   "metadata": {},
   "outputs": [
    {
     "name": "stderr",
     "output_type": "stream",
     "text": [
      "INFO:pyknow.watchers.FACTS: ==> <f-0>: InitialFact()\n",
      "INFO:pyknow.watchers.FACTS: ==> <f-1>: Promo(producto='Dodot', tipo='2x1')\n",
      "INFO:pyknow.watchers.FACTS: ==> <f-2>: Promo(producto='Leche Pascual', tipo='2x1')\n",
      "INFO:pyknow.watchers.FACTS: ==> <f-3>: Promo(producto='Pilas AAA', tipo='3x2')\n"
     ]
    }
   ],
   "source": [
    "nxm.reset()"
   ]
  },
  {
   "cell_type": "code",
   "execution_count": 8,
   "metadata": {},
   "outputs": [
    {
     "name": "stderr",
     "output_type": "stream",
     "text": [
      "INFO:pyknow.watchers.FACTS: ==> <f-4>: Producto(nombre='Dodot')\n"
     ]
    },
    {
     "data": {
      "text/plain": [
       "Producto(nombre='Dodot')"
      ]
     },
     "execution_count": 8,
     "metadata": {},
     "output_type": "execute_result"
    }
   ],
   "source": [
    "nxm.declare(Producto(nombre=\"Dodot\"))"
   ]
  },
  {
   "cell_type": "code",
   "execution_count": 9,
   "metadata": {},
   "outputs": [
    {
     "name": "stderr",
     "output_type": "stream",
     "text": [
      "INFO:pyknow.watchers.FACTS: ==> <f-5>: Producto(nombre='Agua Mineral')\n"
     ]
    },
    {
     "data": {
      "text/plain": [
       "Producto(nombre='Agua Mineral')"
      ]
     },
     "execution_count": 9,
     "metadata": {},
     "output_type": "execute_result"
    }
   ],
   "source": [
    "nxm.declare(Producto(nombre=\"Agua Mineral\"))"
   ]
  },
  {
   "cell_type": "code",
   "execution_count": 10,
   "metadata": {},
   "outputs": [
    {
     "name": "stderr",
     "output_type": "stream",
     "text": [
      "INFO:pyknow.watchers.FACTS: ==> <f-6>: Producto(nombre='Pilas AAA')\n"
     ]
    },
    {
     "data": {
      "text/plain": [
       "Producto(nombre='Pilas AAA')"
      ]
     },
     "execution_count": 10,
     "metadata": {},
     "output_type": "execute_result"
    }
   ],
   "source": [
    "nxm.declare(Producto(nombre=\"Pilas AAA\"))"
   ]
  },
  {
   "cell_type": "code",
   "execution_count": 11,
   "metadata": {},
   "outputs": [
    {
     "name": "stderr",
     "output_type": "stream",
     "text": [
      "INFO:pyknow.watchers.RULES:FIRE 1 oferta_nxm: <f-6>, <f-3>\n",
      "INFO:pyknow.watchers.FACTS: ==> <f-7>: Cupon(producto='Pilas AAA', tipo='3x2')\n",
      "INFO:pyknow.watchers.RULES:FIRE 2 oferta_nxm: <f-1>, <f-4>\n",
      "INFO:pyknow.watchers.FACTS: ==> <f-8>: Cupon(producto='Dodot', tipo='2x1')\n"
     ]
    }
   ],
   "source": [
    "nxm.run()"
   ]
  },
  {
   "cell_type": "code",
   "execution_count": 13,
   "metadata": {},
   "outputs": [
    {
     "data": {
      "text/plain": [
       "FactList([(0, InitialFact()),\n",
       "          (1, Promo(producto='Dodot', tipo='2x1')),\n",
       "          (2, Promo(producto='Leche Pascual', tipo='2x1')),\n",
       "          (3, Promo(producto='Pilas AAA', tipo='3x2')),\n",
       "          (4, Producto(nombre='Dodot')),\n",
       "          (5, Producto(nombre='Agua Mineral')),\n",
       "          (6, Producto(nombre='Pilas AAA')),\n",
       "          (7, Cupon(producto='Pilas AAA', tipo='3x2')),\n",
       "          (8, Cupon(producto='Dodot', tipo='2x1'))])"
      ]
     },
     "execution_count": 13,
     "metadata": {},
     "output_type": "execute_result"
    }
   ],
   "source": [
    "nxm.facts"
   ]
  },
  {
   "cell_type": "markdown",
   "metadata": {},
   "source": [
    "## Objetivo 2\n",
    "### Fomentar el consumo de otros productos\n",
    "\n",
    "Para lograr este objetivo generaremos cupones con packs descuento. Ejemplo:\n",
    "\n",
    "* Si compras una fregona y una mopa a la vez, tienes un 25% de descuento en ambos productos\n",
    "\n",
    "#### Implementación"
   ]
  },
  {
   "cell_type": "code",
   "execution_count": 15,
   "metadata": {},
   "outputs": [],
   "source": [
    "class OfertasPACK(KnowledgeEngine):\n",
    "    @DefFacts()\n",
    "    def carga_promociones_pack(self):\n",
    "        \"\"\"Genera las promociones vigentes\"\"\"\n",
    "        yield Promo(tipo=\"PACK\", producto1=\"Fregona ACME\", producto2=\"Mopa ACME\", descuento=\"25%\")\n",
    "        yield Promo(tipo=\"PACK\", producto1=\"Pasta Gallo\", producto2=\"Tomate Frito\", descuento=\"10%\")\n",
    "\n",
    "    @Rule(Promo(tipo=\"PACK\", producto1=MATCH.p1, producto2=MATCH.p2, descuento=MATCH.d),\n",
    "          OR(\n",
    "              AND(\n",
    "                  NOT(Producto(nombre=MATCH.p1)),\n",
    "                  Producto(nombre=MATCH.p2)\n",
    "              ),\n",
    "              AND(\n",
    "                  Producto(nombre=MATCH.p1),\n",
    "                  NOT(Producto(nombre=MATCH.p2))\n",
    "              )\n",
    "          )\n",
    "    )\n",
    "    def pack(self, p1, p2, d):\n",
    "        \"\"\"\n",
    "        El cliente querrá comprar un producto adicional en su próxima visita.\n",
    "        \"\"\"\n",
    "        self.declare(Cupon(tipo=\"PACK\", producto1=p1, producto2=p2, descuento=d))"
   ]
  },
  {
   "cell_type": "markdown",
   "metadata": {},
   "source": [
    "#### Pruebas"
   ]
  },
  {
   "cell_type": "code",
   "execution_count": 16,
   "metadata": {},
   "outputs": [],
   "source": [
    "pack = OfertasPACK()"
   ]
  },
  {
   "cell_type": "code",
   "execution_count": 17,
   "metadata": {},
   "outputs": [
    {
     "name": "stderr",
     "output_type": "stream",
     "text": [
      "INFO:pyknow.watchers.FACTS: ==> <f-0>: InitialFact()\n",
      "INFO:pyknow.watchers.FACTS: ==> <f-1>: Promo(producto2='Mopa ACME', producto1='Fregona ACME', descuento='25%', tipo='PACK')\n",
      "INFO:pyknow.watchers.FACTS: ==> <f-2>: Promo(producto2='Tomate Frito', producto1='Pasta Gallo', descuento='10%', tipo='PACK')\n"
     ]
    }
   ],
   "source": [
    "pack.reset()"
   ]
  },
  {
   "cell_type": "code",
   "execution_count": 18,
   "metadata": {},
   "outputs": [
    {
     "name": "stderr",
     "output_type": "stream",
     "text": [
      "INFO:pyknow.watchers.FACTS: ==> <f-3>: Producto(nombre='Tomate Frito')\n"
     ]
    },
    {
     "data": {
      "text/plain": [
       "Producto(nombre='Tomate Frito')"
      ]
     },
     "execution_count": 18,
     "metadata": {},
     "output_type": "execute_result"
    }
   ],
   "source": [
    "pack.declare(Producto(nombre=\"Tomate Frito\"))"
   ]
  },
  {
   "cell_type": "code",
   "execution_count": 19,
   "metadata": {},
   "outputs": [
    {
     "name": "stderr",
     "output_type": "stream",
     "text": [
      "INFO:pyknow.watchers.FACTS: ==> <f-4>: Producto(nombre='Fregona ACME')\n"
     ]
    },
    {
     "data": {
      "text/plain": [
       "Producto(nombre='Fregona ACME')"
      ]
     },
     "execution_count": 19,
     "metadata": {},
     "output_type": "execute_result"
    }
   ],
   "source": [
    "pack.declare(Producto(nombre=\"Fregona ACME\"))"
   ]
  },
  {
   "cell_type": "code",
   "execution_count": 20,
   "metadata": {},
   "outputs": [
    {
     "name": "stderr",
     "output_type": "stream",
     "text": [
      "INFO:pyknow.watchers.RULES:FIRE 1 pack: <f-1>, <f-4>\n",
      "INFO:pyknow.watchers.FACTS: ==> <f-5>: Cupon(producto2='Mopa ACME', producto1='Fregona ACME', descuento='25%', tipo='PACK')\n",
      "INFO:pyknow.watchers.RULES:FIRE 2 pack: <f-2>, <f-3>\n",
      "INFO:pyknow.watchers.FACTS: ==> <f-6>: Cupon(producto2='Tomate Frito', producto1='Pasta Gallo', descuento='10%', tipo='PACK')\n"
     ]
    }
   ],
   "source": [
    "pack.run()"
   ]
  },
  {
   "cell_type": "markdown",
   "metadata": {},
   "source": [
    "**Si compramos ambos productos de un pack no se nos debe generar la promoción, ya que en este caso el comercio perdería beneficio.**"
   ]
  },
  {
   "cell_type": "code",
   "execution_count": 21,
   "metadata": {},
   "outputs": [
    {
     "name": "stderr",
     "output_type": "stream",
     "text": [
      "INFO:pyknow.watchers.FACTS: ==> <f-0>: InitialFact()\n",
      "INFO:pyknow.watchers.FACTS: ==> <f-1>: Promo(producto2='Mopa ACME', producto1='Fregona ACME', descuento='25%', tipo='PACK')\n",
      "INFO:pyknow.watchers.FACTS: ==> <f-2>: Promo(producto2='Tomate Frito', producto1='Pasta Gallo', descuento='10%', tipo='PACK')\n"
     ]
    }
   ],
   "source": [
    "pack.reset()"
   ]
  },
  {
   "cell_type": "code",
   "execution_count": 22,
   "metadata": {},
   "outputs": [
    {
     "name": "stderr",
     "output_type": "stream",
     "text": [
      "INFO:pyknow.watchers.FACTS: ==> <f-3>: Producto(nombre='Fregona ACME')\n"
     ]
    },
    {
     "data": {
      "text/plain": [
       "Producto(nombre='Fregona ACME')"
      ]
     },
     "execution_count": 22,
     "metadata": {},
     "output_type": "execute_result"
    }
   ],
   "source": [
    "pack.declare(Producto(nombre=\"Fregona ACME\"))"
   ]
  },
  {
   "cell_type": "code",
   "execution_count": 23,
   "metadata": {},
   "outputs": [
    {
     "name": "stderr",
     "output_type": "stream",
     "text": [
      "INFO:pyknow.watchers.FACTS: ==> <f-4>: Producto(nombre='Mopa ACME')\n"
     ]
    },
    {
     "data": {
      "text/plain": [
       "Producto(nombre='Mopa ACME')"
      ]
     },
     "execution_count": 23,
     "metadata": {},
     "output_type": "execute_result"
    }
   ],
   "source": [
    "pack.declare(Producto(nombre=\"Mopa ACME\"))"
   ]
  },
  {
   "cell_type": "code",
   "execution_count": 24,
   "metadata": {},
   "outputs": [],
   "source": [
    "pack.run()"
   ]
  },
  {
   "cell_type": "markdown",
   "metadata": {},
   "source": [
    "## Objetivo 3\n",
    "### Fomentar el consumo de productos con más margen de beneficio\n",
    "\n",
    "El truco para cumplir este objetivo es conocer qué beneficio se obtiene por cada producto, y si existe un producto del mismo **tipo** con un beneficio mayor, generar un cupón de descuento para ese producto que nos permita seguir ganando más.\n",
    "\n",
    "#### Implementación"
   ]
  },
  {
   "cell_type": "code",
   "execution_count": 26,
   "metadata": {},
   "outputs": [],
   "source": [
    "class OfertasDescuento(KnowledgeEngine):\n",
    "    @DefFacts()\n",
    "    def carga_beneficios(self):\n",
    "        \"\"\"\n",
    "        Define las beneficios por producto.\n",
    "        \"\"\"\n",
    "        yield Beneficio(nombre=\"Mahou\", tipo=\"Cerveza\", ganancias=0.5)\n",
    "        yield Beneficio(nombre=\"Cerveza Hacendado\", tipo=\"Cerveza\", ganancias=0.9)\n",
    "\n",
    "        yield Beneficio(nombre=\"Pilas AAA Duracell\", tipo=\"Pilas AAA\", ganancias=1.5)\n",
    "        yield Beneficio(nombre=\"Pilas AAA Hacendado\", tipo=\"Pilas AAA\", ganancias=2)\n",
    "        \n",
    "    @Rule(Producto(nombre=MATCH.p1),\n",
    "          Beneficio(nombre=MATCH.p1, tipo=MATCH.t, ganancias=MATCH.g1),\n",
    "          Beneficio(nombre=MATCH.p2, tipo=MATCH.t, ganancias=MATCH.g2),\n",
    "          TEST(lambda g1, g2: g2 > g1)\n",
    "    )\n",
    "    def descuento_producto_con_mayor_beneficio(self, p2, g1, g2, **_):\n",
    "        \"\"\"\n",
    "        \"\"\"\n",
    "        diferencia_ganancia = g2 - g1\n",
    "        self.declare(Cupon(tipo=\"DESCUENTO\",\n",
    "                           producto=p2,\n",
    "                           cantidad=diferencia_ganancia / 2))"
   ]
  },
  {
   "cell_type": "markdown",
   "metadata": {},
   "source": [
    "#### Pruebas"
   ]
  },
  {
   "cell_type": "code",
   "execution_count": 27,
   "metadata": {},
   "outputs": [],
   "source": [
    "descuento = OfertasDescuento()"
   ]
  },
  {
   "cell_type": "code",
   "execution_count": 28,
   "metadata": {},
   "outputs": [
    {
     "name": "stderr",
     "output_type": "stream",
     "text": [
      "INFO:pyknow.watchers.FACTS: ==> <f-0>: InitialFact()\n",
      "INFO:pyknow.watchers.FACTS: ==> <f-1>: Beneficio(nombre='Mahou', ganancias=0.5, tipo='Cerveza')\n",
      "INFO:pyknow.watchers.FACTS: ==> <f-2>: Beneficio(nombre='Cerveza Hacendado', ganancias=0.9, tipo='Cerveza')\n",
      "INFO:pyknow.watchers.FACTS: ==> <f-3>: Beneficio(nombre='Pilas AAA Duracell', ganancias=1.5, tipo='Pilas AAA')\n",
      "INFO:pyknow.watchers.FACTS: ==> <f-4>: Beneficio(nombre='Pilas AAA Hacendado', ganancias=2, tipo='Pilas AAA')\n"
     ]
    }
   ],
   "source": [
    "descuento.reset()"
   ]
  },
  {
   "cell_type": "code",
   "execution_count": 29,
   "metadata": {},
   "outputs": [
    {
     "name": "stderr",
     "output_type": "stream",
     "text": [
      "INFO:pyknow.watchers.FACTS: ==> <f-5>: Producto(nombre='Mahou')\n"
     ]
    },
    {
     "data": {
      "text/plain": [
       "Producto(nombre='Mahou')"
      ]
     },
     "execution_count": 29,
     "metadata": {},
     "output_type": "execute_result"
    }
   ],
   "source": [
    "descuento.declare(Producto(nombre=\"Mahou\"))"
   ]
  },
  {
   "cell_type": "code",
   "execution_count": 30,
   "metadata": {},
   "outputs": [
    {
     "name": "stderr",
     "output_type": "stream",
     "text": [
      "INFO:pyknow.watchers.RULES:FIRE 1 descuento_producto_con_mayor_beneficio: <f-2>, <f-5>, <f-1>\n",
      "INFO:pyknow.watchers.FACTS: ==> <f-6>: Cupon(producto='Cerveza Hacendado', cantidad=0.2, tipo='DESCUENTO')\n"
     ]
    }
   ],
   "source": [
    "descuento.run()"
   ]
  },
  {
   "cell_type": "markdown",
   "metadata": {},
   "source": [
    "**El sistema no debe generar cupón si se ha comprado el producto con mayor beneficio**"
   ]
  },
  {
   "cell_type": "code",
   "execution_count": null,
   "metadata": {},
   "outputs": [],
   "source": [
    "descuento.reset()"
   ]
  },
  {
   "cell_type": "code",
   "execution_count": null,
   "metadata": {},
   "outputs": [],
   "source": [
    "descuento.declare(Producto(nombre=\"Pilas AAA Hacendado\"))"
   ]
  },
  {
   "cell_type": "code",
   "execution_count": null,
   "metadata": {},
   "outputs": [],
   "source": [
    "descuento.run()"
   ]
  },
  {
   "cell_type": "markdown",
   "metadata": {},
   "source": [
    "## Juntándolo todo\n",
    "Gracias a **Python** podemos utilizar herencia múltiple para unir nuestros distintos motores en uno y darle un mejor interfaz de usuario."
   ]
  },
  {
   "cell_type": "code",
   "execution_count": 31,
   "metadata": {},
   "outputs": [],
   "source": [
    "class GeneradorCupones(OfertasNxM, OfertasPACK, OfertasDescuento):\n",
    "    def generar_cupones(self, *nombre_productos):\n",
    "        # Reiniciamos el motor\n",
    "        self.reset()\n",
    "\n",
    "        # Declaramos los productos que ha comprado el cliente\n",
    "        for nombre in nombre_productos:\n",
    "            self.declare(Producto(nombre=nombre))\n",
    "\n",
    "        # Ejecutamos el motor\n",
    "        self.run()\n",
    "        \n",
    "        # Extraemos las promociones generadas\n",
    "        for fact in self.facts.values():\n",
    "            if isinstance(fact, Cupon):\n",
    "                yield fact"
   ]
  },
  {
   "cell_type": "code",
   "execution_count": 32,
   "metadata": {},
   "outputs": [],
   "source": [
    "ke = GeneradorCupones()"
   ]
  },
  {
   "cell_type": "code",
   "execution_count": 33,
   "metadata": {},
   "outputs": [
    {
     "name": "stderr",
     "output_type": "stream",
     "text": [
      "INFO:pyknow.watchers.FACTS: ==> <f-0>: InitialFact()\n",
      "INFO:pyknow.watchers.FACTS: ==> <f-1>: Beneficio(nombre='Mahou', ganancias=0.5, tipo='Cerveza')\n",
      "INFO:pyknow.watchers.FACTS: ==> <f-2>: Beneficio(nombre='Cerveza Hacendado', ganancias=0.9, tipo='Cerveza')\n",
      "INFO:pyknow.watchers.FACTS: ==> <f-3>: Beneficio(nombre='Pilas AAA Duracell', ganancias=1.5, tipo='Pilas AAA')\n",
      "INFO:pyknow.watchers.FACTS: ==> <f-4>: Beneficio(nombre='Pilas AAA Hacendado', ganancias=2, tipo='Pilas AAA')\n",
      "INFO:pyknow.watchers.FACTS: ==> <f-5>: Promo(producto='Dodot', tipo='2x1')\n",
      "INFO:pyknow.watchers.FACTS: ==> <f-6>: Promo(producto='Leche Pascual', tipo='2x1')\n",
      "INFO:pyknow.watchers.FACTS: ==> <f-7>: Promo(producto='Pilas AAA', tipo='3x2')\n",
      "INFO:pyknow.watchers.FACTS: ==> <f-8>: Promo(producto2='Mopa ACME', producto1='Fregona ACME', descuento='25%', tipo='PACK')\n",
      "INFO:pyknow.watchers.FACTS: ==> <f-9>: Promo(producto2='Tomate Frito', producto1='Pasta Gallo', descuento='10%', tipo='PACK')\n",
      "INFO:pyknow.watchers.FACTS: ==> <f-10>: Producto(nombre='Pilas AAA')\n",
      "INFO:pyknow.watchers.FACTS: ==> <f-11>: Producto(nombre='Mahou')\n",
      "INFO:pyknow.watchers.FACTS: ==> <f-12>: Producto(nombre='Tomate Frito')\n",
      "INFO:pyknow.watchers.RULES:FIRE 1 pack: <f-9>, <f-12>\n",
      "INFO:pyknow.watchers.FACTS: ==> <f-13>: Cupon(producto2='Tomate Frito', producto1='Pasta Gallo', descuento='10%', tipo='PACK')\n",
      "INFO:pyknow.watchers.RULES:FIRE 2 descuento_producto_con_mayor_beneficio: <f-11>, <f-2>, <f-1>\n",
      "INFO:pyknow.watchers.FACTS: ==> <f-14>: Cupon(producto='Cerveza Hacendado', cantidad=0.2, tipo='DESCUENTO')\n",
      "INFO:pyknow.watchers.RULES:FIRE 3 oferta_nxm: <f-7>, <f-10>\n",
      "INFO:pyknow.watchers.FACTS: ==> <f-15>: Cupon(producto='Pilas AAA', tipo='3x2')\n"
     ]
    },
    {
     "data": {
      "text/plain": [
       "[Cupon(producto2='Tomate Frito', producto1='Pasta Gallo', descuento='10%', tipo='PACK'),\n",
       " Cupon(producto='Cerveza Hacendado', cantidad=0.2, tipo='DESCUENTO'),\n",
       " Cupon(producto='Pilas AAA', tipo='3x2')]"
      ]
     },
     "execution_count": 33,
     "metadata": {},
     "output_type": "execute_result"
    }
   ],
   "source": [
    "[cupon for cupon in ke.generar_cupones(\"Pilas AAA\", \"Mahou\", \"Tomate Frito\")]"
   ]
  },
  {
   "cell_type": "code",
   "execution_count": null,
   "metadata": {},
   "outputs": [],
   "source": []
  }
 ],
 "metadata": {
  "kernelspec": {
   "display_name": "Python 3",
   "language": "python",
   "name": "python3"
  },
  "language_info": {
   "codemirror_mode": {
    "name": "ipython",
    "version": 3
   },
   "file_extension": ".py",
   "mimetype": "text/x-python",
   "name": "python",
   "nbconvert_exporter": "python",
   "pygments_lexer": "ipython3",
   "version": "3.5.3"
  }
 },
 "nbformat": 4,
 "nbformat_minor": 2
}
